{
  "nbformat": 4,
  "nbformat_minor": 0,
  "metadata": {
    "colab": {
      "provenance": [],
      "mount_file_id": "1Z44h_sOKT_VepGRqne-sMRYHlCFvSYpD",
      "authorship_tag": "ABX9TyOTtLiskfVskqfmIKQDx98F",
      "include_colab_link": true
    },
    "kernelspec": {
      "name": "python3",
      "display_name": "Python 3"
    },
    "language_info": {
      "name": "python"
    }
  },
  "cells": [
    {
      "cell_type": "markdown",
      "metadata": {
        "id": "view-in-github",
        "colab_type": "text"
      },
      "source": [
        "<a href=\"https://colab.research.google.com/github/b-aser/CV-IP/blob/main/log-transformation.ipynb\" target=\"_parent\"><img src=\"https://colab.research.google.com/assets/colab-badge.svg\" alt=\"Open In Colab\"/></a>"
      ]
    },
    {
      "cell_type": "code",
      "execution_count": 1,
      "metadata": {
        "colab": {
          "base_uri": "https://localhost:8080/"
        },
        "id": "cVLs0GK-Zhno",
        "outputId": "ce896e9e-f2e7-44de-ef6e-a5cb818b5d90"
      },
      "outputs": [
        {
          "output_type": "execute_result",
          "data": {
            "text/plain": [
              "True"
            ]
          },
          "metadata": {},
          "execution_count": 1
        }
      ],
      "source": [
        "import cv2\n",
        "import numpy as np\n",
        "\n",
        "# Open the image.\n",
        "img = cv2.imread('/content/drive/MyDrive/CV & IP/sample.jpg')\n",
        "\n",
        "# Apply log transform.\n",
        "c = 255/(np.log(1 + np.max(img)))\n",
        "log_transformed = c * np.log(1 + img)\n",
        "\n",
        "# Specify the data type.\n",
        "log_transformed = np.array(log_transformed, dtype = np.uint8)\n",
        "\n",
        "# Save the output.\n",
        "cv2.imwrite('/content/drive/MyDrive/CV & IP/log_transformed.jpg', log_transformed)\n"
      ]
    },
    {
      "cell_type": "code",
      "source": [],
      "metadata": {
        "id": "MauBbpqlaUqy"
      },
      "execution_count": null,
      "outputs": []
    }
  ]
}