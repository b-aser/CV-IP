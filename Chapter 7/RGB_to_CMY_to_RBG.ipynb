{
  "nbformat": 4,
  "nbformat_minor": 0,
  "metadata": {
    "colab": {
      "provenance": []
    },
    "kernelspec": {
      "name": "python3",
      "display_name": "Python 3"
    },
    "language_info": {
      "name": "python"
    }
  },
  "cells": [
    {
      "cell_type": "code",
      "execution_count": 2,
      "metadata": {
        "colab": {
          "base_uri": "https://localhost:8080/"
        },
        "id": "UYiCVx2Sx4JV",
        "outputId": "3ecdcbc0-6049-4fba-db1e-e2fb7c20f2bb"
      },
      "outputs": [
        {
          "output_type": "stream",
          "name": "stdout",
          "text": [
            "Original RGB: (20, 50, 80)\n",
            "CMY: C=0.92, M=0.80, Y=0.69\n",
            "HSI: H=210.00°, S=0.60, I=0.20\n",
            "RGB from CMY: (19, 49, 80)\n"
          ]
        }
      ],
      "source": [
        "import numpy as np\n",
        "\n",
        "# Given RGB values\n",
        "R, G, B = 20, 50, 80\n",
        "\n",
        "# Step 1: RGB to CMY Conversion\n",
        "def rgb_to_cmy(r, g, b):\n",
        "    C = 1 - r / 255\n",
        "    M = 1 - g / 255\n",
        "    Y = 1 - b / 255\n",
        "    return C, M, Y\n",
        "\n",
        "# Step 2: RGB to HSI Conversion\n",
        "def rgb_to_hsi(r, g, b):\n",
        "    r, g, b = r / 255, g / 255, b / 255  # Normalize\n",
        "    intensity = (r + g + b) / 3\n",
        "\n",
        "    # Saturation\n",
        "    min_val = min(r, g, b)\n",
        "    saturation = 0 if intensity == 0 else 1 - (min_val / intensity)\n",
        "\n",
        "    # Hue\n",
        "    num = 0.5 * ((r - g) + (r - b))\n",
        "    den = np.sqrt((r - g)**2 + (r - b) * (g - b))\n",
        "    theta = np.arccos(num / den) if den != 0 else 0\n",
        "    hue = np.degrees(theta)\n",
        "    if b > g:\n",
        "        hue = 360 - hue\n",
        "\n",
        "    return hue, saturation, intensity\n",
        "\n",
        "# Step 3: Verification (CMY to RGB)\n",
        "def cmy_to_rgb(c, m, y):\n",
        "    R = (1 - c) * 255\n",
        "    G = (1 - m) * 255\n",
        "    B = (1 - y) * 255\n",
        "    return int(R), int(G), int(B)\n",
        "\n",
        "# Perform conversions\n",
        "C, M, Y = rgb_to_cmy(R, G, B)\n",
        "H, S, I = rgb_to_hsi(R, G, B)\n",
        "RGB_from_CMY = cmy_to_rgb(C, M, Y)\n",
        "\n",
        "# Print results\n",
        "print(\"Original RGB:\", (R, G, B))\n",
        "print(f\"CMY: C={C:.2f}, M={M:.2f}, Y={Y:.2f}\")\n",
        "print(f\"HSI: H={H:.2f}°, S={S:.2f}, I={I:.2f}\")\n",
        "print(\"RGB from CMY:\", RGB_from_CMY)\n"
      ]
    },
    {
      "cell_type": "code",
      "source": [],
      "metadata": {
        "id": "PcNZkKigx-in"
      },
      "execution_count": null,
      "outputs": []
    }
  ]
}